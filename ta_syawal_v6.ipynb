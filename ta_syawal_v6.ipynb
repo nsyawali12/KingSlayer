{
 "cells": [
  {
   "cell_type": "code",
   "execution_count": 1,
   "metadata": {},
   "outputs": [],
   "source": [
    "# ALL LIBRARY IMPORT\n",
    "\n",
    "import scipy.io\n",
    "import numpy as np\n",
    "import matplotlib.pyplot as plt\n",
    "import pandas as pd\n",
    "\n",
    "import cv2\n",
    "import os\n"
   ]
  },
  {
   "cell_type": "code",
   "execution_count": 19,
   "metadata": {},
   "outputs": [
    {
     "ename": "SyntaxError",
     "evalue": "invalid syntax (<ipython-input-19-392f643bb64c>, line 1)",
     "output_type": "error",
     "traceback": [
      "\u001b[1;36m  File \u001b[1;32m\"<ipython-input-19-392f643bb64c>\"\u001b[1;36m, line \u001b[1;32m1\u001b[0m\n\u001b[1;33m    $pip install imutils\u001b[0m\n\u001b[1;37m    ^\u001b[0m\n\u001b[1;31mSyntaxError\u001b[0m\u001b[1;31m:\u001b[0m invalid syntax\n"
     ]
    }
   ],
   "source": []
  },
  {
   "cell_type": "code",
   "execution_count": 10,
   "metadata": {},
   "outputs": [],
   "source": [
    "# from PIL import Image\n",
    "# # load the image\n",
    "# image = Image.open('drive/My Drive/dataset_coffee/dataset_percobaan1/kelas_1/DSCF0903.JPG')\n",
    "# # summarize some details about the image\n",
    "# print(image.format)\n",
    "# print(image.mode)\n",
    "# print(image.size)\n",
    "# # show the image\n",
    "# image.show()"
   ]
  },
  {
   "cell_type": "code",
   "execution_count": 11,
   "metadata": {},
   "outputs": [],
   "source": [
    "width = 1060#530#265\n",
    "height = 596#298#149"
   ]
  },
  {
   "cell_type": "code",
   "execution_count": 16,
   "metadata": {},
   "outputs": [
    {
     "name": "stdout",
     "output_type": "stream",
     "text": [
      "Label dataset uploaded\n",
      "       0             1     2      3\n",
      "0     no            id   iso  class\n",
      "1      1  DSCF0903.JPG   400      1\n",
      "2      2  DSCF0900.JPG   800      1\n",
      "3      3  DSCF0904.JPG  1250      1\n",
      "4      4  DSCF0905.JPG   400      1\n",
      "5      5  DSCF0910.JPG   800      1\n",
      "6      6  DSCF0911.JPG  1250      1\n",
      "7      7  DSCF0914.JPG   400      1\n",
      "8      8  DSCF0915.JPG   800      1\n",
      "9      9  DSCF0916.JPG  1250      1\n",
      "10    10  DSCF0919.JPG   400      1\n",
      "11    11  DSCF0920.JPG   800      1\n",
      "12    12  DSCF0921.JPG  1250      1\n",
      "13    13  DSCF0922.JPG   400      1\n",
      "14    14  DSCF0923.JPG   800      1\n",
      "15    15  DSCF0924.JPG  1250      1\n",
      "16    16  DSCF0925.JPG   400      1\n",
      "17    17  DSCF0926.JPG   800      1\n",
      "18    18  DSCF0927.JPG  1250      1\n",
      "19    19  DSCF0929.JPG   400      1\n",
      "20    20  DSCF0930.JPG   800      1\n",
      "21    21  DSCF0931.JPG  1250      1\n",
      "22    22  DSCF0932.JPG   400      1\n",
      "23    23  DSCF0933.JPG   800      1\n",
      "24    24  DSCF0934.JPG  1250      1\n",
      "25    25  DSCF0936.JPG   400      1\n",
      "26    26  DSCF0937.JPG   800      1\n",
      "27    27  DSCF0938.JPG  1250      1\n",
      "28    28  DSCF0940.JPG   400      1\n",
      "29    29  DSCF0941.JPG   800      1\n",
      "..   ...           ...   ...    ...\n",
      "511  511  DSCF1692.JPG   400      3\n",
      "512  512  DSCF1693.JPG   800      3\n",
      "513  513  DSCF1694.JPG  1250      3\n",
      "514  514  DSCF1695.JPG   400      3\n",
      "515  515  DSCF1696.JPG   800      3\n",
      "516  516  DSCF1697.JPG  1250      3\n",
      "517  517  DSCF1699.JPG   400      3\n",
      "518  518  DSCF1700.JPG   800      3\n",
      "519  519  DSCF1701.JPG  1250      3\n",
      "520  520  DSCF1703.JPG   400      3\n",
      "521  521  DSCF1704.JPG   800      3\n",
      "522  522  DSCF1705.JPG  1250      3\n",
      "523  523  DSCF1707.JPG   400      3\n",
      "524  524  DSCF1708.JPG   800      3\n",
      "525  525  DSCF1709.JPG  1250      3\n",
      "526  526  DSCF1710.JPG   400      3\n",
      "527  527  DSCF1712.JPG   800      3\n",
      "528  528  DSCF1713.JPG  1250      3\n",
      "529  529  DSCF1715.JPG   400      3\n",
      "530  530  DSCF1716.JPG   800      3\n",
      "531  531  DSCF1717.JPG  1250      3\n",
      "532  532  DSCF1718.JPG   400      3\n",
      "533  533  DSCF1719.JPG   800      3\n",
      "534  534  DSCF1720.JPG  1250      3\n",
      "535  535  DSCF1723.JPG   400      3\n",
      "536  536  DSCF1724.JPG   800      3\n",
      "537  537  DSCF1725.JPG  1250      3\n",
      "538  538  DSCF1726.JPG   400      3\n",
      "539  539  DSCF1727.JPG   800      3\n",
      "540  540  DSCF1728.JPG  1250      3\n",
      "\n",
      "[541 rows x 4 columns]\n"
     ]
    }
   ],
   "source": [
    "#import dataset label by pandas\n",
    "\n",
    "dtLabel = pd.read_csv(\"D:\\TASyawal\\dasetallclass.csv\", header=None)\n",
    "print(\"Label dataset uploaded\")\n",
    "print(dtLabel)"
   ]
  },
  {
   "cell_type": "code",
   "execution_count": null,
   "metadata": {},
   "outputs": [],
   "source": [
    "import glob\n",
    "image_list = []\n",
    "counter = 0"
   ]
  }
 ],
 "metadata": {
  "kernelspec": {
   "display_name": "Python 3",
   "language": "python",
   "name": "python3"
  },
  "language_info": {
   "codemirror_mode": {
    "name": "ipython",
    "version": 3
   },
   "file_extension": ".py",
   "mimetype": "text/x-python",
   "name": "python",
   "nbconvert_exporter": "python",
   "pygments_lexer": "ipython3",
   "version": "3.7.3"
  }
 },
 "nbformat": 4,
 "nbformat_minor": 2
}
